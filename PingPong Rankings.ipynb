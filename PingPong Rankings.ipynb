{
 "cells": [
  {
   "cell_type": "code",
   "execution_count": 1,
   "metadata": {},
   "outputs": [],
   "source": [
    "from elo import Elo\n",
    "import pandas as pd\n",
    "from datetime import datetime\n",
    "\n",
    "elo = Elo()"
   ]
  },
  {
   "cell_type": "markdown",
   "metadata": {},
   "source": [
    "# Create the initial rankings\n",
    "\n",
    "Please add your name and rerun all the cells below"
   ]
  },
  {
   "cell_type": "code",
   "execution_count": 2,
   "metadata": {},
   "outputs": [],
   "source": [
    "df = pd.DataFrame(index=['Hanefi', 'Onur','Metin', 'Ekin', 'Aybuke'], columns=['rating'])\n",
    "df['rating'] = elo.create_rating()\n",
    "\n",
    "matches = pd.DataFrame(columns=['winner', 'loser', 'timestamp'])"
   ]
  },
  {
   "cell_type": "code",
   "execution_count": 3,
   "metadata": {},
   "outputs": [],
   "source": [
    "def record_game_result(winner, loser, timestamp):\n",
    "    global matches\n",
    "    winner_prev, loser_prev = df.rating[[winner, loser]]\n",
    "    df.rating[[winner, loser]] = elo.rate_1vs1(winner_prev, loser_prev)\n",
    "    \n",
    "    matches = matches.append({'winner': winner, 'loser': loser, 'timestamp': datetime.strptime(timestamp, \"%d/%m/%Y %H:%M\")}, ignore_index=True)\n",
    "\n",
    "    print(f\"{winner}, {winner_prev} -> {df.rating[winner]}\")\n",
    "    print(f\"{loser}, {loser_prev} -> {df.rating[loser]}\")\n",
    "    print()\n",
    "    \n",
    "    df.sort_values(by=['rating'], inplace=True, ascending=False)\n",
    "    \n",
    "    df.to_csv('scores.csv')\n",
    "    matches.to_csv('matches.csv', index=False)"
   ]
  },
  {
   "cell_type": "code",
   "execution_count": 4,
   "metadata": {},
   "outputs": [
    {
     "name": "stdout",
     "output_type": "stream",
     "text": [
      "Hanefi, 1200.0 -> 1205.0\n",
      "Onur, 1200.0 -> 1195.0\n",
      "\n",
      "Metin, 1200.0 -> 1205.0719508170905\n",
      "Hanefi, 1205.0 -> 1199.9280491829095\n",
      "\n",
      "Onur, 1195.0 -> 1200.0709155729462\n",
      "Hanefi, 1199.9280491829095 -> 1194.8571336099633\n",
      "\n",
      "Hanefi, 1194.8571336099633 -> 1199.931140001647\n",
      "Ekin, 1200.0 -> 1194.9259936083163\n",
      "\n",
      "Hanefi, 1199.931140001647 -> 1204.9321309766697\n",
      "Aybuke, 1200.0 -> 1194.9990090249773\n",
      "\n",
      "Metin, 1205.0719508170905 -> 1209.92703013414\n",
      "Aybuke, 1194.9990090249773 -> 1190.1439297079278\n",
      "\n"
     ]
    }
   ],
   "source": [
    "record_game_result('Hanefi', 'Onur', '10/03/2020 14:00')\n",
    "record_game_result('Metin', 'Hanefi', '10/03/2020 15:45')\n",
    "record_game_result('Onur', 'Hanefi', '11/03/2020 12:45')\n",
    "record_game_result('Hanefi', 'Ekin', '11/03/2020 16:00')\n",
    "record_game_result('Hanefi', 'Aybuke', '12/03/2020 16:25')\n",
    "record_game_result('Metin', 'Aybuke', '12/03/2020 17:50')"
   ]
  },
  {
   "cell_type": "code",
   "execution_count": 5,
   "metadata": {},
   "outputs": [
    {
     "data": {
      "text/html": [
       "<div>\n",
       "<style scoped>\n",
       "    .dataframe tbody tr th:only-of-type {\n",
       "        vertical-align: middle;\n",
       "    }\n",
       "\n",
       "    .dataframe tbody tr th {\n",
       "        vertical-align: top;\n",
       "    }\n",
       "\n",
       "    .dataframe thead th {\n",
       "        text-align: right;\n",
       "    }\n",
       "</style>\n",
       "<table border=\"1\" class=\"dataframe\">\n",
       "  <thead>\n",
       "    <tr style=\"text-align: right;\">\n",
       "      <th></th>\n",
       "      <th>rating</th>\n",
       "    </tr>\n",
       "  </thead>\n",
       "  <tbody>\n",
       "    <tr>\n",
       "      <th>Metin</th>\n",
       "      <td>1209.927030</td>\n",
       "    </tr>\n",
       "    <tr>\n",
       "      <th>Hanefi</th>\n",
       "      <td>1204.932131</td>\n",
       "    </tr>\n",
       "    <tr>\n",
       "      <th>Onur</th>\n",
       "      <td>1200.070916</td>\n",
       "    </tr>\n",
       "    <tr>\n",
       "      <th>Ekin</th>\n",
       "      <td>1194.925994</td>\n",
       "    </tr>\n",
       "    <tr>\n",
       "      <th>Aybuke</th>\n",
       "      <td>1190.143930</td>\n",
       "    </tr>\n",
       "  </tbody>\n",
       "</table>\n",
       "</div>"
      ],
      "text/plain": [
       "             rating\n",
       "Metin   1209.927030\n",
       "Hanefi  1204.932131\n",
       "Onur    1200.070916\n",
       "Ekin    1194.925994\n",
       "Aybuke  1190.143930"
      ]
     },
     "execution_count": 5,
     "metadata": {},
     "output_type": "execute_result"
    }
   ],
   "source": [
    "df"
   ]
  },
  {
   "cell_type": "code",
   "execution_count": 6,
   "metadata": {},
   "outputs": [
    {
     "data": {
      "text/html": [
       "<div>\n",
       "<style scoped>\n",
       "    .dataframe tbody tr th:only-of-type {\n",
       "        vertical-align: middle;\n",
       "    }\n",
       "\n",
       "    .dataframe tbody tr th {\n",
       "        vertical-align: top;\n",
       "    }\n",
       "\n",
       "    .dataframe thead th {\n",
       "        text-align: right;\n",
       "    }\n",
       "</style>\n",
       "<table border=\"1\" class=\"dataframe\">\n",
       "  <thead>\n",
       "    <tr style=\"text-align: right;\">\n",
       "      <th></th>\n",
       "      <th>winner</th>\n",
       "      <th>loser</th>\n",
       "      <th>timestamp</th>\n",
       "    </tr>\n",
       "  </thead>\n",
       "  <tbody>\n",
       "    <tr>\n",
       "      <th>0</th>\n",
       "      <td>Hanefi</td>\n",
       "      <td>Onur</td>\n",
       "      <td>2020-03-10 14:00:00</td>\n",
       "    </tr>\n",
       "    <tr>\n",
       "      <th>1</th>\n",
       "      <td>Metin</td>\n",
       "      <td>Hanefi</td>\n",
       "      <td>2020-03-10 15:45:00</td>\n",
       "    </tr>\n",
       "    <tr>\n",
       "      <th>2</th>\n",
       "      <td>Onur</td>\n",
       "      <td>Hanefi</td>\n",
       "      <td>2020-03-11 12:45:00</td>\n",
       "    </tr>\n",
       "    <tr>\n",
       "      <th>3</th>\n",
       "      <td>Hanefi</td>\n",
       "      <td>Ekin</td>\n",
       "      <td>2020-03-11 16:00:00</td>\n",
       "    </tr>\n",
       "    <tr>\n",
       "      <th>4</th>\n",
       "      <td>Hanefi</td>\n",
       "      <td>Aybuke</td>\n",
       "      <td>2020-03-12 16:25:00</td>\n",
       "    </tr>\n",
       "    <tr>\n",
       "      <th>5</th>\n",
       "      <td>Metin</td>\n",
       "      <td>Aybuke</td>\n",
       "      <td>2020-03-12 17:50:00</td>\n",
       "    </tr>\n",
       "  </tbody>\n",
       "</table>\n",
       "</div>"
      ],
      "text/plain": [
       "   winner   loser           timestamp\n",
       "0  Hanefi    Onur 2020-03-10 14:00:00\n",
       "1   Metin  Hanefi 2020-03-10 15:45:00\n",
       "2    Onur  Hanefi 2020-03-11 12:45:00\n",
       "3  Hanefi    Ekin 2020-03-11 16:00:00\n",
       "4  Hanefi  Aybuke 2020-03-12 16:25:00\n",
       "5   Metin  Aybuke 2020-03-12 17:50:00"
      ]
     },
     "execution_count": 6,
     "metadata": {},
     "output_type": "execute_result"
    }
   ],
   "source": [
    "matches"
   ]
  }
 ],
 "metadata": {
  "kernelspec": {
   "display_name": "Python 3",
   "language": "python",
   "name": "python3"
  },
  "language_info": {
   "codemirror_mode": {
    "name": "ipython",
    "version": 3
   },
   "file_extension": ".py",
   "mimetype": "text/x-python",
   "name": "python",
   "nbconvert_exporter": "python",
   "pygments_lexer": "ipython3",
   "version": "3.6.7"
  }
 },
 "nbformat": 4,
 "nbformat_minor": 4
}
